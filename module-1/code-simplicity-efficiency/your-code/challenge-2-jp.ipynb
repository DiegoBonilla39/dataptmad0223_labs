{
 "cells": [
  {
   "cell_type": "code",
   "execution_count": null,
   "id": "0ae79945",
   "metadata": {},
   "outputs": [],
   "source": [
    "\"\"\"\n",
    "The code below generates a given number of random strings that consists of numbers and \n",
    "lower case English letters. You can also define the range of the variable lengths of\n",
    "the strings being generated.\n",
    "\"\"\"\n",
    "\n",
    "import random\n",
    "import string\n",
    "\n",
    "string = string.ascii_lowercase + string.digits\n",
    "\n",
    "minimum = int(input('Enter minimum string length: '))\n",
    "maximum = int(input('Enter maximum string length: '))\n",
    "n_string = int(input('How many random strings to generate? '))\n",
    "\n",
    "if (minimum > maximum) or (minimum < 0) or (maximum < 0):\n",
    "    print('Incorrect min and max string lengths. Try again.')\n",
    "elif maximum == minimum:\n",
    "    print([''.join(random.sample(string, maximum)) for i in range(n_string)])\n",
    "else:\n",
    "    minimum = list(range(minimum + 1))\n",
    "    print([''.join(random.sample(string, maximum - random.choice(minimum))) for i in range(n_string)])"
   ]
  }
 ],
 "metadata": {
  "kernelspec": {
   "display_name": "Python [conda env:m1_env]",
   "language": "python",
   "name": "conda-env-m1_env-py"
  },
  "language_info": {
   "codemirror_mode": {
    "name": "ipython",
    "version": 3
   },
   "file_extension": ".py",
   "mimetype": "text/x-python",
   "name": "python",
   "nbconvert_exporter": "python",
   "pygments_lexer": "ipython3",
   "version": "3.10.9"
  }
 },
 "nbformat": 4,
 "nbformat_minor": 5
}
