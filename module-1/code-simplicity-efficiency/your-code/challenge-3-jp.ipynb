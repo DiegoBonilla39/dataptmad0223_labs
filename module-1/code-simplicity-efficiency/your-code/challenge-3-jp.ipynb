{
 "cells": [
  {
   "cell_type": "code",
   "execution_count": 1,
   "id": "2b020e7f",
   "metadata": {},
   "outputs": [
    {
     "name": "stdout",
     "output_type": "stream",
     "text": [
      "What is the maximal length of the triangle side? Enter a number: 15\n",
      "The longest side possible is 13\n"
     ]
    }
   ],
   "source": [
    "\"\"\"\n",
    "You are presented with an integer number larger than 5. Your goal is to identify the longest side\n",
    "possible in a right triangle whose sides are not longer than the number you are given.\n",
    "\n",
    "For example, if you are given the number 15, there are 3 possibilities to compose right triangles:\n",
    "\n",
    "1. [3, 4, 5]\n",
    "2. [6, 8, 10]\n",
    "3. [5, 12, 13]\n",
    "\"\"\"\n",
    "\n",
    "x = int(input(\"What is the maximal length of the triangle side? Enter a number: \"))\n",
    "\n",
    "# Obtain all the possible triangles\n",
    "all_triangles = [sorted([i, j, k]) for i in range(1, x) for j in range(1, x) for k in range(1, x)]\n",
    "\n",
    "# Obtain all the possible right triangles\n",
    "right_triangles = [list(x) for x in set(tuple(x) for x in [sorted(i) for i in all_triangles if i[0]**2 + i[1]**2 == i[2]**2])]\n",
    "\n",
    "# Print the longest side possible\n",
    "print(\"The longest side possible is \" + str(max([j for i in right_triangles for j in i])))"
   ]
  }
 ],
 "metadata": {
  "kernelspec": {
   "display_name": "Python [conda env:m1_env]",
   "language": "python",
   "name": "conda-env-m1_env-py"
  },
  "language_info": {
   "codemirror_mode": {
    "name": "ipython",
    "version": 3
   },
   "file_extension": ".py",
   "mimetype": "text/x-python",
   "name": "python",
   "nbconvert_exporter": "python",
   "pygments_lexer": "ipython3",
   "version": "3.10.9"
  }
 },
 "nbformat": 4,
 "nbformat_minor": 5
}
