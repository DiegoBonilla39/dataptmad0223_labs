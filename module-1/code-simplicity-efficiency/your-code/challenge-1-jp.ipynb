{
 "cells": [
  {
   "cell_type": "code",
   "execution_count": 12,
   "id": "c7ef1095",
   "metadata": {},
   "outputs": [
    {
     "name": "stdout",
     "output_type": "stream",
     "text": [
      "Welcome to this calculator!\n",
      "It can add and subtract whole numbers from zero to five\n",
      "Please choose your first number (zero to five): one\n",
      "What do you want to do? plus or minus: plus\n",
      "Please choose your second number (zero to five): six\n",
      "I am not able to answer this question. Check your input.\n"
     ]
    }
   ],
   "source": [
    "\"\"\"\n",
    "This is a dumb calculator that can add and subtract whole numbers from zero to five.\n",
    "When you run the code, you are prompted to enter two numbers (in the form of English\n",
    "word instead of number) and the operator sign (also in the form of English word).\n",
    "The code will perform the calculation and give the result if your input is what it\n",
    "expects.\n",
    "\n",
    "The code is very long and messy. Refactor it according to what you have learned about\n",
    "code simplicity and efficiency.\n",
    "\"\"\"\n",
    "\n",
    "print('Welcome to this calculator!')\n",
    "print('It can add and subtract whole numbers from zero to five')\n",
    "a = input('Please choose your first number (zero to five): ')\n",
    "b = input('What do you want to do? plus or minus: ')\n",
    "c = input('Please choose your second number (zero to five): ')\n",
    "\n",
    "if (not a == 'zero' and not a == 'one' and not a == 'two' and not a == 'three' and not a == 'four' and not a == 'five') or (not c == 'zero' and not c == 'one' and not c == 'two' and not c == 'three' and not c == 'four' and not c == 'five') or (not b == 'plus' and not b == 'minus'):\n",
    "    print(\"I am not able to answer this question. Check your input.\")\n",
    "else:\n",
    "    my_dict = {\"zero\": 0,\n",
    "                  \"one\": 1,\n",
    "                  \"two\": 2,\n",
    "                  \"three\": 3,\n",
    "                  \"four\": 4,\n",
    "                  \"five\": 5,\n",
    "                  \"six\": 6,\n",
    "                  \"seven\": 7,\n",
    "                  \"eight\": 8,\n",
    "                  \"nine\": 9,\n",
    "                  \"ten\": 10}  \n",
    "\n",
    "    if b == \"plus\":\n",
    "        total = my_dict[a] + my_dict[c]\n",
    "        total = list(my_dict.keys())[list(my_dict.values()).index(total)]\n",
    "        print(a + \" \" + b + \" \" + c + \" equals \" + total)\n",
    "\n",
    "    if b == \"minus\":\n",
    "        total = my_dict[a] - my_dict[c]\n",
    "        total = list(my_dict.keys())[list(my_dict.values()).index(total)]\n",
    "        print(a + \" \" + b + \" \" + c + \" equals \" + total)\n",
    "\n",
    "    print(\"Thanks for using this calculator, goodbye :)\")"
   ]
  }
 ],
 "metadata": {
  "kernelspec": {
   "display_name": "Python [conda env:m1_env]",
   "language": "python",
   "name": "conda-env-m1_env-py"
  },
  "language_info": {
   "codemirror_mode": {
    "name": "ipython",
    "version": 3
   },
   "file_extension": ".py",
   "mimetype": "text/x-python",
   "name": "python",
   "nbconvert_exporter": "python",
   "pygments_lexer": "ipython3",
   "version": "3.10.9"
  }
 },
 "nbformat": 4,
 "nbformat_minor": 5
}
